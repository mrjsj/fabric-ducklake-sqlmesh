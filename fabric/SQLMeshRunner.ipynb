{
 "cells": [
  {
   "cell_type": "markdown",
   "id": "8ae30155-052b-43ac-82b5-14f1c0cdd5bd",
   "metadata": {
    "microsoft": {
     "language": "python",
     "language_group": "jupyter_python"
    },
    "nteract": {
     "transient": {
      "deleting": false
     }
    }
   },
   "source": [
    "# Install requirements"
   ]
  },
  {
   "cell_type": "code",
   "execution_count": null,
   "id": "6c718b85-c581-4b18-b414-0e707ebecf8e",
   "metadata": {
    "microsoft": {
     "language": "python",
     "language_group": "jupyter_python"
    }
   },
   "outputs": [],
   "source": [
    "%pip install -r /lakehouse/default/Files/SQLMesh.Code/requirements.txt\n",
    "import sys\n",
    "sys.exit(0)"
   ]
  },
  {
   "cell_type": "markdown",
   "id": "6e62b33a-e10f-4fb1-8cf8-893bbac92e07",
   "metadata": {
    "microsoft": {
     "language": "python",
     "language_group": "jupyter_python"
    },
    "nteract": {
     "transient": {
      "deleting": false
     }
    }
   },
   "source": [
    "# Configuration\n",
    "Ensure the key vault secret names match the ones created in the specified key vault."
   ]
  },
  {
   "cell_type": "code",
   "execution_count": null,
   "id": "91a4e01f-779b-4174-b48e-ce57581b25ed",
   "metadata": {
    "microsoft": {
     "language": "python",
     "language_group": "jupyter_python"
    }
   },
   "outputs": [],
   "source": [
    "KEY_VAULT_NAME=\"kv-ducklake-dev\"\n",
    "\n",
    "FABRIC_WORKSPACE_NAME=\"WS_DuckLake\"\n",
    "FABRIC_LAKEHOUSE_NAME=\"LH_DuckLake\"\n",
    "FABRIC_DUCKLAKE_DATA_PATH=\"DuckLake.Files\"\n",
    "FABRIC_SQLMESH_CODE_PATH=\"SQLMesh.Code\"\n",
    "\n",
    "FABRIC_LAKEHOUSE_TABLES_BASE_PATH=f\"abfss://{FABRIC_WORKSPACE_NAME}@onelake.dfs.fabric.microsoft.com/{FABRIC_LAKEHOUSE_NAME}.Lakehouse/Tables\"\n",
    "\n",
    "# Mapping to the names of the key vault secret names\n",
    "ENV_VARS = {\n",
    "    \"AZURE_CLIENT_ID\": \"DuckLakeClientID\",\n",
    "    \"AZURE_CLIENT_SECRET\": \"DuckLakeClientSecret\",\n",
    "    \"AZURE_TENANT_ID\": \"DuckLakeTenantID\",\n",
    "    \"PG__HOST\": \"DuckLakePGHost\",\n",
    "    \"PG__PORT\": \"DuckLakePGPort\",\n",
    "    \"PG__DATABASE\": \"DuckLakePGDatabase\",\n",
    "    \"PG__USER\": \"DuckLakePGUser\",\n",
    "    \"PG__PASSWORD\": \"DuckLakePGPassword\",\n",
    "}\n"
   ]
  },
  {
   "cell_type": "code",
   "execution_count": null,
   "id": "4d8005e9-1c26-4b32-b970-02bb1deecb4d",
   "metadata": {
    "microsoft": {
     "language": "python",
     "language_group": "jupyter_python"
    }
   },
   "outputs": [],
   "source": [
    "import os\n",
    "\n",
    "\n",
    "for env_var_name, secret_name in ENV_VARS.items():\n",
    "    os.environ[env_var_name] = notebookutils.credentials.getSecret(KEY_VAULT_NAME, secret_name)\n",
    "\n",
    "os.environ[\"FABRIC_WORKSPACE_NAME\"] = FABRIC_WORKSPACE_NAME\n",
    "os.environ[\"FABRIC_LAKEHOUSE_NAME\"] = FABRIC_LAKEHOUSE_NAME\n",
    "os.environ[\"FABRIC_DUCKLAKE_DATA_PATH\"] = FABRIC_DUCKLAKE_DATA_PATH\n",
    "os.environ[\"FABRIC_SQLMESH_CODE_PATH\"] = FABRIC_SQLMESH_CODE_PATH"
   ]
  },
  {
   "cell_type": "code",
   "execution_count": null,
   "id": "9cc05d09-4f08-4612-b74b-f0ca4aa6b437",
   "metadata": {
    "microsoft": {
     "language": "python",
     "language_group": "jupyter_python"
    }
   },
   "outputs": [],
   "source": [
    "!sqlmesh -p /lakehouse/default/Files/{FABRIC_SQLMESH_CODE_PATH} plan --auto-apply"
   ]
  },
  {
   "cell_type": "code",
   "execution_count": null,
   "id": "796a0284-4bdd-4215-9086-af0641d37807",
   "metadata": {
    "microsoft": {
     "language": "python",
     "language_group": "jupyter_python"
    }
   },
   "outputs": [],
   "source": [
    "import duckdb\n",
    "import fsspec\n",
    "\n",
    "storage_options = {\n",
    "    \"account_name\": \"onelake\",\n",
    "    \"account_host\": \"onelake.blob.fabric.microsoft.com\",\n",
    "    \"anon\": False,\n",
    "}\n",
    "\n",
    "fs = fsspec.filesystem(\"abfs\", **storage_options)\n",
    "\n",
    "con = duckdb.connect()\n",
    "\n",
    "con.register_filesystem(fs)\n",
    "\n",
    "host = os.environ.get(\"PG__HOST\")\n",
    "database = os.environ.get(\"PG__DATABASE\")\n",
    "user = os.environ.get(\"PG__USER\")\n",
    "password = os.environ.get(\"PG__PASSWORD\")\n",
    "\n",
    "con.execute(f\"\"\"\n",
    "    INSTALL ducklake;\n",
    "    ATTACH 'ducklake:postgres:\n",
    "        host={host}\n",
    "        dbname={database}\n",
    "        user={user}\n",
    "        password={password}'\n",
    "    AS ducklake\n",
    "\"\"\"\n",
    ")\n"
   ]
  },
  {
   "cell_type": "code",
   "execution_count": null,
   "id": "17bf70af-392c-49c2-968b-9557a5591128",
   "metadata": {
    "microsoft": {
     "language": "python",
     "language_group": "jupyter_python"
    }
   },
   "outputs": [],
   "source": [
    "from deltalake import write_deltalake\n",
    "\n",
    "tables = con.sql(\"\"\"\n",
    "    USE ducklake; \n",
    "    SELECT\n",
    "        table_catalog,\n",
    "        table_schema,\n",
    "        table_name\n",
    "    FROM INFORMATION_SCHEMA.TABLES \n",
    "    WHERE\n",
    "        table_schema IN ('silver','gold')\n",
    "    \"\"\").pl().to_dicts()\n",
    "\n",
    "\n",
    "for table in tables:\n",
    "    \n",
    "    catalog = table.get(\"table_catalog\")\n",
    "    schema = table.get(\"table_schema\")\n",
    "    name = table.get(\"table_name\")\n",
    "\n",
    "    print(f\"Syncing ducklake table: {catalog}.{schema}.{name} to delta table: {schema}.{name}\")\n",
    "\n",
    "    data = con.execute(f\"SELECT * FROM {catalog}.{schema}.{name}\").arrow()\n",
    "\n",
    "    write_deltalake(\n",
    "        table_or_uri=f\"{FABRIC_LAKEHOUSE_TABLES_BASE_PATH}/{schema}/{name}\",\n",
    "        data=data,\n",
    "        mode=\"overwrite\",\n",
    "        schema_mode=\"overwrite\",\n",
    "    )\n",
    "    "
   ]
  },
  {
   "cell_type": "code",
   "execution_count": null,
   "id": "f1b1944f-b4de-4397-a248-ccfbd1fb3de6",
   "metadata": {
    "microsoft": {
     "language": "python",
     "language_group": "jupyter_python"
    }
   },
   "outputs": [],
   "source": []
  }
 ],
 "metadata": {
  "dependencies": {},
  "kernel_info": {
   "jupyter_kernel_name": "python3.11",
   "name": "jupyter"
  },
  "kernelspec": {
   "display_name": "synapse_pyspark",
   "name": "synapse_pyspark"
  },
  "language_info": {
   "name": "python"
  },
  "microsoft": {
   "language": "python",
   "language_group": "jupyter_python",
   "ms_spell_check": {
    "ms_spell_check_language": "en"
   }
  },
  "nteract": {
   "version": "nteract-front-end@1.0.0"
  },
  "spark_compute": {
   "compute_id": "/trident/default",
   "session_options": {
    "conf": {
     "spark.synapse.nbs.session.timeout": "1200000"
    }
   }
  },
  "widgets": {
   "application/vnd.jupyter.widget-state+json": {
    "state": {
     "4fefaa0f8ce74d9eb9a1fb6306bc43c4": {
      "model_module": "@jupyter-widgets/controls",
      "model_module_version": "2.0.0",
      "model_name": "ProgressStyleModel",
      "state": {
       "bar_color": "black",
       "description_width": ""
      }
     },
     "8dd78887c59a4775b2d1e289ac39b95c": {
      "model_module": "@jupyter-widgets/controls",
      "model_module_version": "2.0.0",
      "model_name": "FloatProgressModel",
      "state": {
       "layout": "IPY_MODEL_b8eee2a93cf04c08a610bc9f129eedca",
       "style": "IPY_MODEL_4fefaa0f8ce74d9eb9a1fb6306bc43c4",
       "value": 100
      }
     },
     "b8eee2a93cf04c08a610bc9f129eedca": {
      "model_module": "@jupyter-widgets/base",
      "model_module_version": "2.0.0",
      "model_name": "LayoutModel",
      "state": {
       "width": "auto"
      }
     }
    },
    "version_major": 2,
    "version_minor": 0
   }
  }
 },
 "nbformat": 4,
 "nbformat_minor": 5
}
